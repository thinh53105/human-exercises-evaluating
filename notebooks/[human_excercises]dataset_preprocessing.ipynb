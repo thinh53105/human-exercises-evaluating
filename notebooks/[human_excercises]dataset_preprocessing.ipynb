{
  "cells": [
    {
      "cell_type": "code",
      "execution_count": null,
      "metadata": {
        "id": "nYwikDatcMrY"
      },
      "outputs": [],
      "source": [
        "from google.colab import drive\n",
        "drive.mount('/content/drive')"
      ]
    },
    {
      "cell_type": "code",
      "execution_count": null,
      "metadata": {
        "id": "nqxCSFuFcd0m"
      },
      "outputs": [],
      "source": [
        "%cd /content/drive/MyDrive/Shareddrives/thinh5/capstone-project/data/raw"
      ]
    },
    {
      "cell_type": "code",
      "execution_count": null,
      "metadata": {
        "id": "QD18GXcqcpoe"
      },
      "outputs": [],
      "source": [
        "!du"
      ]
    },
    {
      "cell_type": "code",
      "execution_count": null,
      "metadata": {
        "id": "QMrIyTBBj7xj"
      },
      "outputs": [],
      "source": [
        "import os\n",
        "\n",
        "def copy_folder_structure(source_folder_path, target_folder_path):\n",
        "  for folder in os.listdir(target_folder_path):\n",
        "    path_target = os.path.join(target_folder_path, folder)\n",
        "    if not os.path.isdir(path_target):\n",
        "      continue\n",
        "    \n",
        "    path_to_create = os.path.join(source_folder_path, folder)\n",
        "    os.makedirs(path_to_create, exist_ok=True)\n",
        "    print(f\"Create path: {path_to_create}\")\n",
        "    copy_folder_structure(path_to_create, path_target)"
      ]
    },
    {
      "cell_type": "code",
      "execution_count": null,
      "metadata": {
        "id": "p2dJeR2Vjkbf"
      },
      "outputs": [],
      "source": [
        "# !rm -rf /content/drive/MyDrive/Shareddrives/thinh5/capstone-project/data/dataset/squats"
      ]
    },
    {
      "cell_type": "code",
      "execution_count": null,
      "metadata": {
        "id": "kMX_7MBTkkTD"
      },
      "outputs": [],
      "source": [
        "copy_folder_structure(\n",
        "    '/content/drive/MyDrive/Shareddrives/thinh5/capstone-project/data/dataset/squats/horizontal/squats-20221206',\n",
        "    '/content/drive/MyDrive/Shareddrives/thinh5/capstone-project/data/raw/squats/horizontal/squats-20221206'\n",
        ")"
      ]
    },
    {
      "cell_type": "code",
      "execution_count": null,
      "metadata": {
        "id": "0n4tveSact-P"
      },
      "outputs": [],
      "source": [
        "import glob\n",
        "\n",
        "img_list = glob.glob(\"/content/drive/MyDrive/Shareddrives/thinh5/capstone-project/data/raw/squats/horizontal/squats-20221206/*/*/*[.png|.jpg]\")"
      ]
    },
    {
      "cell_type": "code",
      "execution_count": null,
      "metadata": {
        "id": "HOSOTym_oP1M"
      },
      "outputs": [],
      "source": [
        "len(img_list)"
      ]
    },
    {
      "cell_type": "code",
      "source": [
        "img_list[0]"
      ],
      "metadata": {
        "id": "ZyKDqEOfyHAO"
      },
      "execution_count": null,
      "outputs": []
    },
    {
      "cell_type": "code",
      "execution_count": null,
      "metadata": {
        "id": "T0P-jlFodfVl"
      },
      "outputs": [],
      "source": [
        "import cv2\n",
        "import matplotlib.pyplot as plt\n",
        "import random\n",
        "from tqdm import tqdm\n",
        "\n",
        "W, H = 1276, 956\n",
        "\n",
        "for img_path in img_list:\n",
        "  img_bgr = cv2.imread(img_path)\n",
        "  img_bgr_resized = cv2.resize(img_bgr, dsize=(W, H))\n",
        "  new_path = img_path.replace('raw', 'dataset')\n",
        "  ret = cv2.imwrite(new_path, img_bgr_resized)\n",
        "  print(new_path, ret)"
      ]
    },
    {
      "cell_type": "code",
      "execution_count": null,
      "metadata": {
        "id": "aJRPt42NksMZ"
      },
      "outputs": [],
      "source": [
        "img = cv2.imread('/content/drive/MyDrive/Shareddrives/thinh5/capstone-project/data/dataset/pushups/horizontal/pushups-20210527/up/right/up_right00110.png')\n",
        "img.shape"
      ]
    },
    {
      "cell_type": "code",
      "execution_count": null,
      "metadata": {
        "id": "5La5t55mogfX"
      },
      "outputs": [],
      "source": [
        "!du /content/drive/MyDrive/Shareddrives/thinh5/capstone-project/data/dataset/pushups"
      ]
    },
    {
      "cell_type": "code",
      "execution_count": null,
      "metadata": {
        "id": "qCxcN7dk5KEo"
      },
      "outputs": [],
      "source": [
        "!du /content/drive/MyDrive/Shareddrives/thinh5/capstone-project/data/raw/squats"
      ]
    },
    {
      "cell_type": "code",
      "source": [
        "import glob\n",
        "dataset_list = glob.glob(\"/content/drive/MyDrive/Shareddrives/thinh5/capstone-project/data/dataset/squats/horizontal/*/*/*/*[.png|.jpg]\")"
      ],
      "metadata": {
        "id": "vzCiErsD8m8b"
      },
      "execution_count": null,
      "outputs": []
    },
    {
      "cell_type": "code",
      "source": [
        "len(dataset_list)"
      ],
      "metadata": {
        "id": "ZKeoQRsM8qFa"
      },
      "execution_count": null,
      "outputs": []
    },
    {
      "cell_type": "code",
      "execution_count": null,
      "metadata": {
        "id": "tVvCGUKy5OKz"
      },
      "outputs": [],
      "source": [
        "%cd /content/drive/MyDrive/Shareddrives/thinh5/capstone-project/data/dataset"
      ]
    },
    {
      "cell_type": "code",
      "execution_count": null,
      "metadata": {
        "id": "JbKIDMrNHdtH"
      },
      "outputs": [],
      "source": [
        "!zip -r ../zip/squats3.zip squats/"
      ]
    },
    {
      "cell_type": "markdown",
      "metadata": {
        "id": "Sl2c03TfbgrU"
      },
      "source": [
        "## Test data processing"
      ]
    },
    {
      "cell_type": "code",
      "execution_count": null,
      "metadata": {
        "id": "RwZoxoMgbc4O"
      },
      "outputs": [],
      "source": [
        "test_path = '/content/drive/MyDrive/Shareddrives/thinh5/capstone-project/data/test_dataset/pushups/horizontal/pushups-20220913'"
      ]
    },
    {
      "cell_type": "code",
      "execution_count": null,
      "metadata": {
        "id": "e95pxVAmcglE"
      },
      "outputs": [],
      "source": [
        "import glob\n",
        "test_list = glob.glob(test_path + '/*/*/*[.png|.jpg]')\n",
        "len(test_list)"
      ]
    },
    {
      "cell_type": "code",
      "execution_count": null,
      "metadata": {
        "id": "19Kt2Nj3cuYx"
      },
      "outputs": [],
      "source": [
        "type_ = ['up', 'down']\n",
        "classes = ['right', 'wrong']\n",
        "for t in type_:\n",
        "  for cls in classes:\n",
        "    l = glob.glob(f\"{test_path}/{t}/{cls}/*[.png|.jpg]\")\n",
        "    print(f\"{t}-{cls}: {len(l)}\")"
      ]
    },
    {
      "cell_type": "code",
      "execution_count": null,
      "metadata": {
        "id": "YQU-tPIVdHTK"
      },
      "outputs": [],
      "source": []
    }
  ],
  "metadata": {
    "colab": {
      "provenance": []
    },
    "kernelspec": {
      "display_name": "Python 3",
      "name": "python3"
    },
    "language_info": {
      "name": "python"
    }
  },
  "nbformat": 4,
  "nbformat_minor": 0
}